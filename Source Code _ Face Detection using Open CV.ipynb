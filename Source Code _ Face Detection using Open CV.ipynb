{
 "cells": [
  {
   "cell_type": "code",
   "execution_count": 5,
   "id": "edd819ce",
   "metadata": {},
   "outputs": [],
   "source": [
    "import cv2 # import the open CV packages\n",
    "import numpy as np"
   ]
  },
  {
   "cell_type": "code",
   "execution_count": 6,
   "id": "fa1a2f64",
   "metadata": {},
   "outputs": [],
   "source": [
    "cap= cv2.VideoCapture(0) # use our webcam as video input\n",
    "face_cascade = cv2.CascadeClassifier('haarcascades/haarcascade_frontalface_default.xml') # load the pre-trained face detection cascade classifier\n",
    "eye_cascade = cv2.CascadeClassifier('haarcascades/haarcascade_eye.xml') # load eye cascade classifier"
   ]
  },
  {
   "cell_type": "code",
   "execution_count": 7,
   "id": "e6298c61",
   "metadata": {},
   "outputs": [],
   "source": [
    "while True:\n",
    "    ret, frame = cap.read() # cap = video capture \n",
    "                            # ret is a boolean variable that returns true if the frame is available\n",
    "                            # frame is an image array vector captured based on the default frames per second \n",
    "            \n",
    "    gray = cv2.cvtColor(frame, cv2.COLOR_BGR2GRAY) # Haar cascades as many other algorithms on Open Cv, it requires only gray scales in order to perform this classification\n",
    "    \n",
    "    faces = face_cascade.detectMultiScale(gray, 1.3, 5) # use detecMultiscale to make predictions of the position of the face on the gray version of our video capture. read > https://stackoverflow.com/questions/20801015/recommended-values-for-opencv-detectmultiscale-parameters\n",
    "    for (x, y, w, h) in faces: \n",
    "        \n",
    "        cv2.rectangle(frame, (x, y), (x + w, y + h), (255, 0, 0), 5) # we draw a rectangle with x, y up left position, and x+width and y+height for the down right position of this rectangle\n",
    "                                                                     # arbitrary we choose the blue color (255,0,0) and line thickness 5\n",
    "        roi_gray = gray[y:y+w, x:x+w] # we take the rectangle detecting the face and store it on the new function roi_gray (Region of Interest in Gray scale)\n",
    "        roi_color = frame[y:y+h, x:x+w]\n",
    "        \n",
    "    \n",
    "    eyes = eye_cascade.detectMultiScale(roi_gray, 1.3, 5) # we look for eyes on each face detected in gray scale\n",
    "    for (ex, ey, ew, eh) in eyes:\n",
    "            cv2.rectangle(roi_color, (ex, ey), (ex + ew, ey + eh), (0, 255, 0), 5) # same we draw a rectangle surrounding eyes in green color\n",
    "        \n",
    "    cv2.imshow('frame', frame) #show the image with rectangles designating face and eyes on our webcam stream\n",
    "    \n",
    "    if cv2.waitKey(1) == ord('q'): # press q to stop the show :) \n",
    "        break\n",
    "    \n",
    "cap.release()\n",
    "cv2.destroyAllWindows()"
   ]
  },
  {
   "cell_type": "code",
   "execution_count": null,
   "id": "8bfc4713",
   "metadata": {},
   "outputs": [],
   "source": []
  }
 ],
 "metadata": {
  "kernelspec": {
   "display_name": "Python 3",
   "language": "python",
   "name": "python3"
  },
  "language_info": {
   "codemirror_mode": {
    "name": "ipython",
    "version": 3
   },
   "file_extension": ".py",
   "mimetype": "text/x-python",
   "name": "python",
   "nbconvert_exporter": "python",
   "pygments_lexer": "ipython3",
   "version": "3.8.8"
  }
 },
 "nbformat": 4,
 "nbformat_minor": 5
}
